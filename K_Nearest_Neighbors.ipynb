{
 "cells": [
  {
   "cell_type": "code",
   "execution_count": 1,
   "id": "4fe1eaee",
   "metadata": {},
   "outputs": [
    {
     "name": "stdout",
     "output_type": "stream",
     "text": [
      "Collecting datascience\n",
      "  Downloading datascience-0.17.5.tar.gz (727 kB)\n",
      "\u001b[K     |████████████████████████████████| 727 kB 616 kB/s eta 0:00:01\n",
      "\u001b[?25hCollecting folium>=0.9.1\n",
      "  Downloading folium-0.12.1.post1-py2.py3-none-any.whl (95 kB)\n",
      "\u001b[K     |████████████████████████████████| 95 kB 814 kB/s eta 0:00:01\n",
      "\u001b[?25hRequirement already satisfied: setuptools in ./anaconda3/lib/python3.9/site-packages (from datascience) (61.2.0)\n",
      "Requirement already satisfied: matplotlib>=3.0.0 in ./anaconda3/lib/python3.9/site-packages (from datascience) (3.5.1)\n",
      "Requirement already satisfied: pandas in ./anaconda3/lib/python3.9/site-packages (from datascience) (1.4.2)\n",
      "Requirement already satisfied: scipy in ./anaconda3/lib/python3.9/site-packages (from datascience) (1.7.3)\n",
      "Requirement already satisfied: numpy in ./anaconda3/lib/python3.9/site-packages (from datascience) (1.21.5)\n",
      "Requirement already satisfied: ipython in ./anaconda3/lib/python3.9/site-packages (from datascience) (8.2.0)\n",
      "Requirement already satisfied: plotly in ./anaconda3/lib/python3.9/site-packages (from datascience) (5.6.0)\n",
      "Collecting branca\n",
      "  Downloading branca-0.5.0-py3-none-any.whl (24 kB)\n",
      "Requirement already satisfied: requests in ./anaconda3/lib/python3.9/site-packages (from folium>=0.9.1->datascience) (2.27.1)\n",
      "Requirement already satisfied: jinja2>=2.9 in ./anaconda3/lib/python3.9/site-packages (from folium>=0.9.1->datascience) (2.11.3)\n",
      "Requirement already satisfied: MarkupSafe>=0.23 in ./anaconda3/lib/python3.9/site-packages (from jinja2>=2.9->folium>=0.9.1->datascience) (2.0.1)\n",
      "Requirement already satisfied: fonttools>=4.22.0 in ./anaconda3/lib/python3.9/site-packages (from matplotlib>=3.0.0->datascience) (4.25.0)\n",
      "Requirement already satisfied: cycler>=0.10 in ./anaconda3/lib/python3.9/site-packages (from matplotlib>=3.0.0->datascience) (0.11.0)\n",
      "Requirement already satisfied: pillow>=6.2.0 in ./anaconda3/lib/python3.9/site-packages (from matplotlib>=3.0.0->datascience) (9.0.1)\n",
      "Requirement already satisfied: packaging>=20.0 in ./anaconda3/lib/python3.9/site-packages (from matplotlib>=3.0.0->datascience) (21.3)\n",
      "Requirement already satisfied: kiwisolver>=1.0.1 in ./anaconda3/lib/python3.9/site-packages (from matplotlib>=3.0.0->datascience) (1.3.2)\n",
      "Requirement already satisfied: pyparsing>=2.2.1 in ./anaconda3/lib/python3.9/site-packages (from matplotlib>=3.0.0->datascience) (3.0.4)\n",
      "Requirement already satisfied: python-dateutil>=2.7 in ./anaconda3/lib/python3.9/site-packages (from matplotlib>=3.0.0->datascience) (2.8.2)\n",
      "Requirement already satisfied: six>=1.5 in ./anaconda3/lib/python3.9/site-packages (from python-dateutil>=2.7->matplotlib>=3.0.0->datascience) (1.16.0)\n",
      "Requirement already satisfied: prompt-toolkit!=3.0.0,!=3.0.1,<3.1.0,>=2.0.0 in ./anaconda3/lib/python3.9/site-packages (from ipython->datascience) (3.0.20)\n",
      "Requirement already satisfied: pygments>=2.4.0 in ./anaconda3/lib/python3.9/site-packages (from ipython->datascience) (2.11.2)\n",
      "Requirement already satisfied: backcall in ./anaconda3/lib/python3.9/site-packages (from ipython->datascience) (0.2.0)\n",
      "Requirement already satisfied: stack-data in ./anaconda3/lib/python3.9/site-packages (from ipython->datascience) (0.2.0)\n",
      "Requirement already satisfied: matplotlib-inline in ./anaconda3/lib/python3.9/site-packages (from ipython->datascience) (0.1.2)\n",
      "Requirement already satisfied: pexpect>4.3 in ./anaconda3/lib/python3.9/site-packages (from ipython->datascience) (4.8.0)\n",
      "Requirement already satisfied: jedi>=0.16 in ./anaconda3/lib/python3.9/site-packages (from ipython->datascience) (0.18.1)\n",
      "Requirement already satisfied: decorator in ./anaconda3/lib/python3.9/site-packages (from ipython->datascience) (5.1.1)\n",
      "Requirement already satisfied: traitlets>=5 in ./anaconda3/lib/python3.9/site-packages (from ipython->datascience) (5.1.1)\n",
      "Requirement already satisfied: pickleshare in ./anaconda3/lib/python3.9/site-packages (from ipython->datascience) (0.7.5)\n",
      "Requirement already satisfied: parso<0.9.0,>=0.8.0 in ./anaconda3/lib/python3.9/site-packages (from jedi>=0.16->ipython->datascience) (0.8.3)\n",
      "Requirement already satisfied: ptyprocess>=0.5 in ./anaconda3/lib/python3.9/site-packages (from pexpect>4.3->ipython->datascience) (0.7.0)\n",
      "Requirement already satisfied: wcwidth in ./anaconda3/lib/python3.9/site-packages (from prompt-toolkit!=3.0.0,!=3.0.1,<3.1.0,>=2.0.0->ipython->datascience) (0.2.5)\n",
      "Requirement already satisfied: pytz>=2020.1 in ./anaconda3/lib/python3.9/site-packages (from pandas->datascience) (2021.3)\n",
      "Requirement already satisfied: tenacity>=6.2.0 in ./anaconda3/lib/python3.9/site-packages (from plotly->datascience) (8.0.1)\n",
      "Requirement already satisfied: certifi>=2017.4.17 in ./anaconda3/lib/python3.9/site-packages (from requests->folium>=0.9.1->datascience) (2021.10.8)\n",
      "Requirement already satisfied: charset-normalizer~=2.0.0 in ./anaconda3/lib/python3.9/site-packages (from requests->folium>=0.9.1->datascience) (2.0.4)\n",
      "Requirement already satisfied: idna<4,>=2.5 in ./anaconda3/lib/python3.9/site-packages (from requests->folium>=0.9.1->datascience) (3.3)\n",
      "Requirement already satisfied: urllib3<1.27,>=1.21.1 in ./anaconda3/lib/python3.9/site-packages (from requests->folium>=0.9.1->datascience) (1.26.9)\n",
      "Requirement already satisfied: executing in ./anaconda3/lib/python3.9/site-packages (from stack-data->ipython->datascience) (0.8.3)\n",
      "Requirement already satisfied: asttokens in ./anaconda3/lib/python3.9/site-packages (from stack-data->ipython->datascience) (2.0.5)\n",
      "Requirement already satisfied: pure-eval in ./anaconda3/lib/python3.9/site-packages (from stack-data->ipython->datascience) (0.2.2)\n",
      "Building wheels for collected packages: datascience\n",
      "  Building wheel for datascience (setup.py) ... \u001b[?25ldone\n",
      "\u001b[?25h  Created wheel for datascience: filename=datascience-0.17.5-py3-none-any.whl size=732546 sha256=69e03ea46535d611b20ee32a1d7f1d9ff9ef3ebb7e46c8641cdd2fe85c7d9027\n",
      "  Stored in directory: /home/nieece/.cache/pip/wheels/74/0a/88/e52ce8c2533663326372f4be6eba170267fb70dc6252234186\n",
      "Successfully built datascience\n",
      "Installing collected packages: branca, folium, datascience\n",
      "Successfully installed branca-0.5.0 datascience-0.17.5 folium-0.12.1.post1\n",
      "Note: you may need to restart the kernel to use updated packages.\n"
     ]
    }
   ],
   "source": [
    "pip install datascience"
   ]
  },
  {
   "cell_type": "code",
   "execution_count": 2,
   "id": "153c8a72",
   "metadata": {},
   "outputs": [
    {
     "name": "stdout",
     "output_type": "stream",
     "text": [
      "Requirement already satisfied: datascience in ./anaconda3/lib/python3.9/site-packages (0.17.5)\n",
      "Requirement already satisfied: pandas in ./anaconda3/lib/python3.9/site-packages (from datascience) (1.4.2)\n",
      "Requirement already satisfied: plotly in ./anaconda3/lib/python3.9/site-packages (from datascience) (5.6.0)\n",
      "Requirement already satisfied: ipython in ./anaconda3/lib/python3.9/site-packages (from datascience) (8.2.0)\n",
      "Requirement already satisfied: matplotlib>=3.0.0 in ./anaconda3/lib/python3.9/site-packages (from datascience) (3.5.1)\n",
      "Requirement already satisfied: branca in ./anaconda3/lib/python3.9/site-packages (from datascience) (0.5.0)\n",
      "Requirement already satisfied: scipy in ./anaconda3/lib/python3.9/site-packages (from datascience) (1.7.3)\n",
      "Requirement already satisfied: setuptools in ./anaconda3/lib/python3.9/site-packages (from datascience) (61.2.0)\n",
      "Requirement already satisfied: numpy in ./anaconda3/lib/python3.9/site-packages (from datascience) (1.21.5)\n",
      "Requirement already satisfied: folium>=0.9.1 in ./anaconda3/lib/python3.9/site-packages (from datascience) (0.12.1.post1)\n",
      "Requirement already satisfied: requests in ./anaconda3/lib/python3.9/site-packages (from folium>=0.9.1->datascience) (2.27.1)\n",
      "Requirement already satisfied: jinja2>=2.9 in ./anaconda3/lib/python3.9/site-packages (from folium>=0.9.1->datascience) (2.11.3)\n",
      "Requirement already satisfied: MarkupSafe>=0.23 in ./anaconda3/lib/python3.9/site-packages (from jinja2>=2.9->folium>=0.9.1->datascience) (2.0.1)\n",
      "Requirement already satisfied: python-dateutil>=2.7 in ./anaconda3/lib/python3.9/site-packages (from matplotlib>=3.0.0->datascience) (2.8.2)\n",
      "Requirement already satisfied: packaging>=20.0 in ./anaconda3/lib/python3.9/site-packages (from matplotlib>=3.0.0->datascience) (21.3)\n",
      "Requirement already satisfied: fonttools>=4.22.0 in ./anaconda3/lib/python3.9/site-packages (from matplotlib>=3.0.0->datascience) (4.25.0)\n",
      "Requirement already satisfied: pillow>=6.2.0 in ./anaconda3/lib/python3.9/site-packages (from matplotlib>=3.0.0->datascience) (9.0.1)\n",
      "Requirement already satisfied: cycler>=0.10 in ./anaconda3/lib/python3.9/site-packages (from matplotlib>=3.0.0->datascience) (0.11.0)\n",
      "Requirement already satisfied: pyparsing>=2.2.1 in ./anaconda3/lib/python3.9/site-packages (from matplotlib>=3.0.0->datascience) (3.0.4)\n",
      "Requirement already satisfied: kiwisolver>=1.0.1 in ./anaconda3/lib/python3.9/site-packages (from matplotlib>=3.0.0->datascience) (1.3.2)\n",
      "Requirement already satisfied: six>=1.5 in ./anaconda3/lib/python3.9/site-packages (from python-dateutil>=2.7->matplotlib>=3.0.0->datascience) (1.16.0)\n",
      "Requirement already satisfied: pickleshare in ./anaconda3/lib/python3.9/site-packages (from ipython->datascience) (0.7.5)\n",
      "Requirement already satisfied: pexpect>4.3 in ./anaconda3/lib/python3.9/site-packages (from ipython->datascience) (4.8.0)\n",
      "Requirement already satisfied: decorator in ./anaconda3/lib/python3.9/site-packages (from ipython->datascience) (5.1.1)\n",
      "Requirement already satisfied: backcall in ./anaconda3/lib/python3.9/site-packages (from ipython->datascience) (0.2.0)\n",
      "Requirement already satisfied: prompt-toolkit!=3.0.0,!=3.0.1,<3.1.0,>=2.0.0 in ./anaconda3/lib/python3.9/site-packages (from ipython->datascience) (3.0.20)\n",
      "Requirement already satisfied: matplotlib-inline in ./anaconda3/lib/python3.9/site-packages (from ipython->datascience) (0.1.2)\n",
      "Requirement already satisfied: traitlets>=5 in ./anaconda3/lib/python3.9/site-packages (from ipython->datascience) (5.1.1)\n",
      "Requirement already satisfied: pygments>=2.4.0 in ./anaconda3/lib/python3.9/site-packages (from ipython->datascience) (2.11.2)\n",
      "Requirement already satisfied: stack-data in ./anaconda3/lib/python3.9/site-packages (from ipython->datascience) (0.2.0)\n",
      "Requirement already satisfied: jedi>=0.16 in ./anaconda3/lib/python3.9/site-packages (from ipython->datascience) (0.18.1)\n",
      "Requirement already satisfied: parso<0.9.0,>=0.8.0 in ./anaconda3/lib/python3.9/site-packages (from jedi>=0.16->ipython->datascience) (0.8.3)\n",
      "Requirement already satisfied: ptyprocess>=0.5 in ./anaconda3/lib/python3.9/site-packages (from pexpect>4.3->ipython->datascience) (0.7.0)\n",
      "Requirement already satisfied: wcwidth in ./anaconda3/lib/python3.9/site-packages (from prompt-toolkit!=3.0.0,!=3.0.1,<3.1.0,>=2.0.0->ipython->datascience) (0.2.5)\n",
      "Requirement already satisfied: pytz>=2020.1 in ./anaconda3/lib/python3.9/site-packages (from pandas->datascience) (2021.3)\n",
      "Requirement already satisfied: tenacity>=6.2.0 in ./anaconda3/lib/python3.9/site-packages (from plotly->datascience) (8.0.1)\n",
      "Requirement already satisfied: idna<4,>=2.5 in ./anaconda3/lib/python3.9/site-packages (from requests->folium>=0.9.1->datascience) (3.3)\n",
      "Requirement already satisfied: charset-normalizer~=2.0.0 in ./anaconda3/lib/python3.9/site-packages (from requests->folium>=0.9.1->datascience) (2.0.4)\n",
      "Requirement already satisfied: urllib3<1.27,>=1.21.1 in ./anaconda3/lib/python3.9/site-packages (from requests->folium>=0.9.1->datascience) (1.26.9)\n",
      "Requirement already satisfied: certifi>=2017.4.17 in ./anaconda3/lib/python3.9/site-packages (from requests->folium>=0.9.1->datascience) (2021.10.8)\n",
      "Requirement already satisfied: pure-eval in ./anaconda3/lib/python3.9/site-packages (from stack-data->ipython->datascience) (0.2.2)\n",
      "Requirement already satisfied: executing in ./anaconda3/lib/python3.9/site-packages (from stack-data->ipython->datascience) (0.8.3)\n",
      "Requirement already satisfied: asttokens in ./anaconda3/lib/python3.9/site-packages (from stack-data->ipython->datascience) (2.0.5)\n"
     ]
    }
   ],
   "source": [
    "!pip install datascience\n"
   ]
  },
  {
   "cell_type": "code",
   "execution_count": 3,
   "id": "ba0f383d",
   "metadata": {},
   "outputs": [],
   "source": [
    "import pandas as pd\n",
    "from scipy.io.arff import loadarff\n",
    "from datascience import *\n",
    "import numpy as np"
   ]
  },
  {
   "cell_type": "code",
   "execution_count": 6,
   "id": "32f02c6f",
   "metadata": {},
   "outputs": [],
   "source": [
    "raw_data=loadarff('/home/nieece/Downloads/weather.numeric.arff')\n",
    "df_data=pd.DataFrame(raw_data[0])"
   ]
  },
  {
   "cell_type": "code",
   "execution_count": 7,
   "id": "fef7ca34",
   "metadata": {},
   "outputs": [
    {
     "data": {
      "text/html": [
       "<div>\n",
       "<style scoped>\n",
       "    .dataframe tbody tr th:only-of-type {\n",
       "        vertical-align: middle;\n",
       "    }\n",
       "\n",
       "    .dataframe tbody tr th {\n",
       "        vertical-align: top;\n",
       "    }\n",
       "\n",
       "    .dataframe thead th {\n",
       "        text-align: right;\n",
       "    }\n",
       "</style>\n",
       "<table border=\"1\" class=\"dataframe\">\n",
       "  <thead>\n",
       "    <tr style=\"text-align: right;\">\n",
       "      <th></th>\n",
       "      <th>outlook</th>\n",
       "      <th>temperature</th>\n",
       "      <th>humidity</th>\n",
       "      <th>windy</th>\n",
       "      <th>play</th>\n",
       "    </tr>\n",
       "  </thead>\n",
       "  <tbody>\n",
       "    <tr>\n",
       "      <th>0</th>\n",
       "      <td>b'sunny'</td>\n",
       "      <td>85.0</td>\n",
       "      <td>85.0</td>\n",
       "      <td>b'FALSE'</td>\n",
       "      <td>b'no'</td>\n",
       "    </tr>\n",
       "    <tr>\n",
       "      <th>1</th>\n",
       "      <td>b'sunny'</td>\n",
       "      <td>80.0</td>\n",
       "      <td>90.0</td>\n",
       "      <td>b'TRUE'</td>\n",
       "      <td>b'no'</td>\n",
       "    </tr>\n",
       "    <tr>\n",
       "      <th>2</th>\n",
       "      <td>b'overcast'</td>\n",
       "      <td>83.0</td>\n",
       "      <td>86.0</td>\n",
       "      <td>b'FALSE'</td>\n",
       "      <td>b'yes'</td>\n",
       "    </tr>\n",
       "    <tr>\n",
       "      <th>3</th>\n",
       "      <td>b'rainy'</td>\n",
       "      <td>70.0</td>\n",
       "      <td>96.0</td>\n",
       "      <td>b'FALSE'</td>\n",
       "      <td>b'yes'</td>\n",
       "    </tr>\n",
       "    <tr>\n",
       "      <th>4</th>\n",
       "      <td>b'rainy'</td>\n",
       "      <td>68.0</td>\n",
       "      <td>80.0</td>\n",
       "      <td>b'FALSE'</td>\n",
       "      <td>b'yes'</td>\n",
       "    </tr>\n",
       "    <tr>\n",
       "      <th>5</th>\n",
       "      <td>b'rainy'</td>\n",
       "      <td>65.0</td>\n",
       "      <td>70.0</td>\n",
       "      <td>b'TRUE'</td>\n",
       "      <td>b'no'</td>\n",
       "    </tr>\n",
       "    <tr>\n",
       "      <th>6</th>\n",
       "      <td>b'overcast'</td>\n",
       "      <td>64.0</td>\n",
       "      <td>65.0</td>\n",
       "      <td>b'TRUE'</td>\n",
       "      <td>b'yes'</td>\n",
       "    </tr>\n",
       "    <tr>\n",
       "      <th>7</th>\n",
       "      <td>b'sunny'</td>\n",
       "      <td>72.0</td>\n",
       "      <td>95.0</td>\n",
       "      <td>b'FALSE'</td>\n",
       "      <td>b'no'</td>\n",
       "    </tr>\n",
       "    <tr>\n",
       "      <th>8</th>\n",
       "      <td>b'sunny'</td>\n",
       "      <td>69.0</td>\n",
       "      <td>70.0</td>\n",
       "      <td>b'FALSE'</td>\n",
       "      <td>b'yes'</td>\n",
       "    </tr>\n",
       "    <tr>\n",
       "      <th>9</th>\n",
       "      <td>b'rainy'</td>\n",
       "      <td>75.0</td>\n",
       "      <td>80.0</td>\n",
       "      <td>b'FALSE'</td>\n",
       "      <td>b'yes'</td>\n",
       "    </tr>\n",
       "    <tr>\n",
       "      <th>10</th>\n",
       "      <td>b'sunny'</td>\n",
       "      <td>75.0</td>\n",
       "      <td>70.0</td>\n",
       "      <td>b'TRUE'</td>\n",
       "      <td>b'yes'</td>\n",
       "    </tr>\n",
       "    <tr>\n",
       "      <th>11</th>\n",
       "      <td>b'overcast'</td>\n",
       "      <td>72.0</td>\n",
       "      <td>90.0</td>\n",
       "      <td>b'TRUE'</td>\n",
       "      <td>b'yes'</td>\n",
       "    </tr>\n",
       "    <tr>\n",
       "      <th>12</th>\n",
       "      <td>b'overcast'</td>\n",
       "      <td>81.0</td>\n",
       "      <td>75.0</td>\n",
       "      <td>b'FALSE'</td>\n",
       "      <td>b'yes'</td>\n",
       "    </tr>\n",
       "    <tr>\n",
       "      <th>13</th>\n",
       "      <td>b'rainy'</td>\n",
       "      <td>71.0</td>\n",
       "      <td>91.0</td>\n",
       "      <td>b'TRUE'</td>\n",
       "      <td>b'no'</td>\n",
       "    </tr>\n",
       "  </tbody>\n",
       "</table>\n",
       "</div>"
      ],
      "text/plain": [
       "        outlook  temperature  humidity     windy    play\n",
       "0      b'sunny'         85.0      85.0  b'FALSE'   b'no'\n",
       "1      b'sunny'         80.0      90.0   b'TRUE'   b'no'\n",
       "2   b'overcast'         83.0      86.0  b'FALSE'  b'yes'\n",
       "3      b'rainy'         70.0      96.0  b'FALSE'  b'yes'\n",
       "4      b'rainy'         68.0      80.0  b'FALSE'  b'yes'\n",
       "5      b'rainy'         65.0      70.0   b'TRUE'   b'no'\n",
       "6   b'overcast'         64.0      65.0   b'TRUE'  b'yes'\n",
       "7      b'sunny'         72.0      95.0  b'FALSE'   b'no'\n",
       "8      b'sunny'         69.0      70.0  b'FALSE'  b'yes'\n",
       "9      b'rainy'         75.0      80.0  b'FALSE'  b'yes'\n",
       "10     b'sunny'         75.0      70.0   b'TRUE'  b'yes'\n",
       "11  b'overcast'         72.0      90.0   b'TRUE'  b'yes'\n",
       "12  b'overcast'         81.0      75.0  b'FALSE'  b'yes'\n",
       "13     b'rainy'         71.0      91.0   b'TRUE'   b'no'"
      ]
     },
     "execution_count": 7,
     "metadata": {},
     "output_type": "execute_result"
    }
   ],
   "source": [
    "df_data"
   ]
  },
  {
   "cell_type": "code",
   "execution_count": 8,
   "id": "f01ea160",
   "metadata": {},
   "outputs": [
    {
     "name": "stdout",
     "output_type": "stream",
     "text": [
      "        outlook  temperature  humidity     windy    play  outlook_n  windy_n  \\\n",
      "0      b'sunny'         85.0      85.0  b'FALSE'   b'no'          2        0   \n",
      "1      b'sunny'         80.0      90.0   b'TRUE'   b'no'          2        1   \n",
      "2   b'overcast'         83.0      86.0  b'FALSE'  b'yes'          0        0   \n",
      "3      b'rainy'         70.0      96.0  b'FALSE'  b'yes'          1        0   \n",
      "4      b'rainy'         68.0      80.0  b'FALSE'  b'yes'          1        0   \n",
      "5      b'rainy'         65.0      70.0   b'TRUE'   b'no'          1        1   \n",
      "6   b'overcast'         64.0      65.0   b'TRUE'  b'yes'          0        1   \n",
      "7      b'sunny'         72.0      95.0  b'FALSE'   b'no'          2        0   \n",
      "8      b'sunny'         69.0      70.0  b'FALSE'  b'yes'          2        0   \n",
      "9      b'rainy'         75.0      80.0  b'FALSE'  b'yes'          1        0   \n",
      "10     b'sunny'         75.0      70.0   b'TRUE'  b'yes'          2        1   \n",
      "11  b'overcast'         72.0      90.0   b'TRUE'  b'yes'          0        1   \n",
      "12  b'overcast'         81.0      75.0  b'FALSE'  b'yes'          0        0   \n",
      "13     b'rainy'         71.0      91.0   b'TRUE'   b'no'          1        1   \n",
      "\n",
      "    play_n  \n",
      "0        0  \n",
      "1        0  \n",
      "2        1  \n",
      "3        1  \n",
      "4        1  \n",
      "5        0  \n",
      "6        1  \n",
      "7        0  \n",
      "8        1  \n",
      "9        1  \n",
      "10       1  \n",
      "11       1  \n",
      "12       1  \n",
      "13       0  \n"
     ]
    }
   ],
   "source": [
    "from sklearn.preprocessing import LabelEncoder\n",
    "\n",
    "LE=LabelEncoder()\n",
    "df_data['outlook_n']=LE.fit_transform(df_data['outlook'])\n",
    "df_data['windy_n']=LE.fit_transform(df_data['windy'])\n",
    "df_data['play_n']=LE.fit_transform(df_data['play'])\n",
    "print(df_data)"
   ]
  },
  {
   "cell_type": "code",
   "execution_count": 9,
   "id": "7d5d0b1a",
   "metadata": {},
   "outputs": [
    {
     "name": "stdout",
     "output_type": "stream",
     "text": [
      "    temperature  humidity  outlook_n  windy_n  play_n\n",
      "0          85.0      85.0          2        0       0\n",
      "1          80.0      90.0          2        1       0\n",
      "2          83.0      86.0          0        0       1\n",
      "3          70.0      96.0          1        0       1\n",
      "4          68.0      80.0          1        0       1\n",
      "5          65.0      70.0          1        1       0\n",
      "6          64.0      65.0          0        1       1\n",
      "7          72.0      95.0          2        0       0\n",
      "8          69.0      70.0          2        0       1\n",
      "9          75.0      80.0          1        0       1\n",
      "10         75.0      70.0          2        1       1\n",
      "11         72.0      90.0          0        1       1\n",
      "12         81.0      75.0          0        0       1\n",
      "13         71.0      91.0          1        1       0\n"
     ]
    }
   ],
   "source": [
    "df_update=df_data.drop(columns=['outlook','windy','play'])\n",
    "print(df_update)"
   ]
  },
  {
   "cell_type": "code",
   "execution_count": 40,
   "id": "b5bd13aa",
   "metadata": {},
   "outputs": [],
   "source": [
    "def distance_between_points(pt1,pt2):\n",
    "    \"\"\"return the distance between two points\"\"\"\n",
    "    return (np.sqrt(sum((pt1-pt2)**2)))\n",
    "\n",
    "def distance_between_rows(row1,row2):\n",
    "    \"\"\"return the distance between two numerical rows of a table\"\"\"\n",
    "    return distance_between_points(np.array(row1,dtype=float),np.array(row2,dtype=float))"
   ]
  },
  {
   "cell_type": "code",
   "execution_count": 41,
   "id": "8663750a",
   "metadata": {},
   "outputs": [],
   "source": [
    "def distances(training,example):\n",
    "    \"\"\"Compute a table with the dataset and distances to the example for each row in the training set\"\"\"\n",
    "    dists=[]\n",
    "    attributes=training.drop('play_n')\n",
    "    for row in attributes.rows:\n",
    "        dist=distance_between_rows(row,example)\n",
    "        dists.append(dist)\n",
    "    return training.with_column('Distance',dists)"
   ]
  },
  {
   "cell_type": "code",
   "execution_count": 42,
   "id": "a1e262cf",
   "metadata": {},
   "outputs": [],
   "source": [
    "def closest(training,example,k):\n",
    "    \"\"\"1.make a separate table for distance between example row amd all other rows\n",
    "       2.sort in ascending\n",
    "       3.take first 5(closest distance between example row and all other rows)\n",
    "       return a table of k closest neighbors to example\"\"\"\n",
    "    return distances(training,example).sort('Distance').take(np.arange(k))"
   ]
  },
  {
   "cell_type": "code",
   "execution_count": 43,
   "id": "0f3a12f5",
   "metadata": {},
   "outputs": [],
   "source": [
    "#consider 1 row\n",
    "Dataset=Table.from_df(df_update)"
   ]
  },
  {
   "cell_type": "code",
   "execution_count": 44,
   "id": "e17e3525",
   "metadata": {},
   "outputs": [
    {
     "data": {
      "text/html": [
       "<table border=\"1\" class=\"dataframe\">\n",
       "    <thead>\n",
       "        <tr>\n",
       "            <th>temperature</th> <th>humidity</th> <th>outlook_n</th> <th>windy_n</th>\n",
       "        </tr>\n",
       "    </thead>\n",
       "    <tbody>\n",
       "        <tr>\n",
       "            <td>85         </td> <td>85      </td> <td>2        </td> <td>0      </td>\n",
       "        </tr>\n",
       "        <tr>\n",
       "            <td>80         </td> <td>90      </td> <td>2        </td> <td>1      </td>\n",
       "        </tr>\n",
       "        <tr>\n",
       "            <td>83         </td> <td>86      </td> <td>0        </td> <td>0      </td>\n",
       "        </tr>\n",
       "    </tbody>\n",
       "</table>\n",
       "<p>... (11 rows omitted)</p>"
      ],
      "text/plain": [
       "<IPython.core.display.HTML object>"
      ]
     },
     "metadata": {},
     "output_type": "display_data"
    }
   ],
   "source": [
    "#test between two rows\n",
    "attributes=Dataset.drop('play_n')\n",
    "attributes.show(3)"
   ]
  },
  {
   "cell_type": "code",
   "execution_count": 45,
   "id": "e88c41f5",
   "metadata": {},
   "outputs": [
    {
     "data": {
      "text/plain": [
       "17.748239349298849"
      ]
     },
     "execution_count": 45,
     "metadata": {},
     "output_type": "execute_result"
    }
   ],
   "source": [
    "#distance between 2rows\n",
    "distance_between_rows(attributes.row(0),attributes.row(4))"
   ]
  },
  {
   "cell_type": "code",
   "execution_count": 46,
   "id": "533c1d29",
   "metadata": {},
   "outputs": [
    {
     "data": {
      "text/plain": [
       "Row(temperature=68.0, humidity=80.0, outlook_n=1, windy_n=0)"
      ]
     },
     "execution_count": 46,
     "metadata": {},
     "output_type": "execute_result"
    }
   ],
   "source": [
    "example=Dataset.drop('play_n').row(4)\n",
    "example"
   ]
  },
  {
   "cell_type": "code",
   "execution_count": 47,
   "id": "e8f06fe6",
   "metadata": {},
   "outputs": [
    {
     "data": {
      "text/html": [
       "<table border=\"1\" class=\"dataframe\">\n",
       "    <thead>\n",
       "        <tr>\n",
       "            <th>temperature</th> <th>humidity</th> <th>outlook_n</th> <th>windy_n</th> <th>play_n</th>\n",
       "        </tr>\n",
       "    </thead>\n",
       "    <tbody>\n",
       "        <tr>\n",
       "            <td>85         </td> <td>85      </td> <td>2        </td> <td>0      </td> <td>0     </td>\n",
       "        </tr>\n",
       "        <tr>\n",
       "            <td>80         </td> <td>90      </td> <td>2        </td> <td>1      </td> <td>0     </td>\n",
       "        </tr>\n",
       "        <tr>\n",
       "            <td>83         </td> <td>86      </td> <td>0        </td> <td>0      </td> <td>1     </td>\n",
       "        </tr>\n",
       "        <tr>\n",
       "            <td>70         </td> <td>96      </td> <td>1        </td> <td>0      </td> <td>1     </td>\n",
       "        </tr>\n",
       "        <tr>\n",
       "            <td>68         </td> <td>80      </td> <td>1        </td> <td>0      </td> <td>1     </td>\n",
       "        </tr>\n",
       "        <tr>\n",
       "            <td>65         </td> <td>70      </td> <td>1        </td> <td>1      </td> <td>0     </td>\n",
       "        </tr>\n",
       "        <tr>\n",
       "            <td>64         </td> <td>65      </td> <td>0        </td> <td>1      </td> <td>1     </td>\n",
       "        </tr>\n",
       "        <tr>\n",
       "            <td>72         </td> <td>95      </td> <td>2        </td> <td>0      </td> <td>0     </td>\n",
       "        </tr>\n",
       "        <tr>\n",
       "            <td>69         </td> <td>70      </td> <td>2        </td> <td>0      </td> <td>1     </td>\n",
       "        </tr>\n",
       "        <tr>\n",
       "            <td>75         </td> <td>80      </td> <td>1        </td> <td>0      </td> <td>1     </td>\n",
       "        </tr>\n",
       "    </tbody>\n",
       "</table>\n",
       "<p>... (4 rows omitted)</p>"
      ],
      "text/plain": [
       "temperature | humidity | outlook_n | windy_n | play_n\n",
       "85          | 85       | 2         | 0       | 0\n",
       "80          | 90       | 2         | 1       | 0\n",
       "83          | 86       | 0         | 0       | 1\n",
       "70          | 96       | 1         | 0       | 1\n",
       "68          | 80       | 1         | 0       | 1\n",
       "65          | 70       | 1         | 1       | 0\n",
       "64          | 65       | 0         | 1       | 1\n",
       "72          | 95       | 2         | 0       | 0\n",
       "69          | 70       | 2         | 0       | 1\n",
       "75          | 80       | 1         | 0       | 1\n",
       "... (4 rows omitted)"
      ]
     },
     "execution_count": 47,
     "metadata": {},
     "output_type": "execute_result"
    }
   ],
   "source": [
    "Dataset"
   ]
  },
  {
   "cell_type": "code",
   "execution_count": 49,
   "id": "9ae2a24e",
   "metadata": {},
   "outputs": [
    {
     "data": {
      "text/html": [
       "<table border=\"1\" class=\"dataframe\">\n",
       "    <thead>\n",
       "        <tr>\n",
       "            <th>temperature</th> <th>humidity</th> <th>outlook_n</th> <th>windy_n</th> <th>play_n</th> <th>Distance</th>\n",
       "        </tr>\n",
       "    </thead>\n",
       "    <tbody>\n",
       "        <tr>\n",
       "            <td>75         </td> <td>80      </td> <td>1        </td> <td>0      </td> <td>1     </td> <td>7       </td>\n",
       "        </tr>\n",
       "        <tr>\n",
       "            <td>69         </td> <td>70      </td> <td>2        </td> <td>0      </td> <td>1     </td> <td>10.0995 </td>\n",
       "        </tr>\n",
       "        <tr>\n",
       "            <td>65         </td> <td>70      </td> <td>1        </td> <td>1      </td> <td>0     </td> <td>10.4881 </td>\n",
       "        </tr>\n",
       "        <tr>\n",
       "            <td>72         </td> <td>90      </td> <td>0        </td> <td>1      </td> <td>1     </td> <td>10.8628 </td>\n",
       "        </tr>\n",
       "        <tr>\n",
       "            <td>71         </td> <td>91      </td> <td>1        </td> <td>1      </td> <td>0     </td> <td>11.4455 </td>\n",
       "        </tr>\n",
       "    </tbody>\n",
       "</table>"
      ],
      "text/plain": [
       "temperature | humidity | outlook_n | windy_n | play_n | Distance\n",
       "75          | 80       | 1         | 0       | 1      | 7\n",
       "69          | 70       | 2         | 0       | 1      | 10.0995\n",
       "65          | 70       | 1         | 1       | 0      | 10.4881\n",
       "72          | 90       | 0         | 1       | 1      | 10.8628\n",
       "71          | 91       | 1         | 1       | 0      | 11.4455"
      ]
     },
     "execution_count": 49,
     "metadata": {},
     "output_type": "execute_result"
    }
   ],
   "source": [
    "closest(Dataset.exclude(4),example,5)"
   ]
  },
  {
   "cell_type": "code",
   "execution_count": 48,
   "id": "7bd3e477",
   "metadata": {},
   "outputs": [],
   "source": [
    "def majority_class(neighbors):\n",
    "    return neighbors.group('play_n').sort('count',descending=True).column('play_n').item(0)"
   ]
  },
  {
   "cell_type": "code",
   "execution_count": 51,
   "id": "83c3b9ae",
   "metadata": {},
   "outputs": [],
   "source": [
    "def classify(training,example,k):\n",
    "    nearest_neighbors=closest(training,example,k)\n",
    "    return majority_class(nearest_neighbors)"
   ]
  },
  {
   "cell_type": "code",
   "execution_count": 52,
   "id": "7cedba0f",
   "metadata": {},
   "outputs": [
    {
     "data": {
      "text/plain": [
       "Row(temperature=68.0, humidity=80.0, outlook_n=1, windy_n=0)"
      ]
     },
     "execution_count": 52,
     "metadata": {},
     "output_type": "execute_result"
    }
   ],
   "source": [
    "example"
   ]
  },
  {
   "cell_type": "code",
   "execution_count": 53,
   "id": "e241aeda",
   "metadata": {},
   "outputs": [],
   "source": [
    "Prediction=classify(Dataset.exclude(4),example,5)"
   ]
  },
  {
   "cell_type": "code",
   "execution_count": 54,
   "id": "e1b504c2",
   "metadata": {},
   "outputs": [
    {
     "data": {
      "text/plain": [
       "1"
      ]
     },
     "execution_count": 54,
     "metadata": {},
     "output_type": "execute_result"
    }
   ],
   "source": [
    "Prediction"
   ]
  },
  {
   "cell_type": "code",
   "execution_count": null,
   "id": "437b5a2a",
   "metadata": {},
   "outputs": [],
   "source": []
  }
 ],
 "metadata": {
  "kernelspec": {
   "display_name": "Python 3 (ipykernel)",
   "language": "python",
   "name": "python3"
  },
  "language_info": {
   "codemirror_mode": {
    "name": "ipython",
    "version": 3
   },
   "file_extension": ".py",
   "mimetype": "text/x-python",
   "name": "python",
   "nbconvert_exporter": "python",
   "pygments_lexer": "ipython3",
   "version": "3.9.12"
  }
 },
 "nbformat": 4,
 "nbformat_minor": 5
}
